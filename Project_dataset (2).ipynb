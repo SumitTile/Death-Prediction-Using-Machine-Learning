{
 "cells": [
  {
   "cell_type": "code",
   "execution_count": 2,
   "metadata": {},
   "outputs": [],
   "source": [
    "from mlxtend.regressor import StackingRegressor\n",
    "from sklearn.linear_model import LinearRegression\n",
    "from sklearn.linear_model import Ridge\n",
    "from sklearn.svm import SVR\n",
    "from sklearn.metrics import confusion_matrix\n",
    "import matplotlib.pyplot as plt\n",
    "import seaborn as sb\n",
    "%matplotlib inline\n",
    "import numpy as np\n",
    "import warnings\n",
    "\n",
    "warnings.simplefilter('ignore')"
   ]
  },
  {
   "cell_type": "code",
   "execution_count": 3,
   "metadata": {},
   "outputs": [],
   "source": [
    "import pandas as pd\n",
    "data1 = pd.read_csv(\"DP1.csv\") "
   ]
  },
  {
   "cell_type": "code",
   "execution_count": 4,
   "metadata": {},
   "outputs": [],
   "source": [
    "X = data1.iloc[:,0:20]\n",
    "y = data1.iloc[:,20]"
   ]
  },
  {
   "cell_type": "code",
   "execution_count": 5,
   "metadata": {},
   "outputs": [
    {
     "data": {
      "text/plain": [
       "array([16., 28., 29., ..., 37., 39., 32.])"
      ]
     },
     "execution_count": 5,
     "metadata": {},
     "output_type": "execute_result"
    }
   ],
   "source": [
    "arr = np.array([])\n",
    "y_true1 = np.append(arr,y)\n",
    "y_true = np.round_(y_true1,decimals=0)\n",
    "y_true"
   ]
  },
  {
   "cell_type": "code",
   "execution_count": 6,
   "metadata": {},
   "outputs": [],
   "source": [
    "#construct the model\n",
    "from sklearn.linear_model import ElasticNet\n",
    "\n",
    "lr = LinearRegression()\n",
    "elasticnet =ElasticNet(random_state=1)\n",
    "svr_lin = SVR(kernel='linear')\n",
    "svr_rbf = SVR(kernel='rbf')\n",
    "\n",
    "stregr = StackingRegressor(regressors=[svr_lin, lr, elasticnet], \n",
    "                           meta_regressor=svr_rbf)"
   ]
  },
  {
   "cell_type": "code",
   "execution_count": 7,
   "metadata": {},
   "outputs": [
    {
     "data": {
      "text/plain": [
       "array([27., 27., 31., ..., 36., 40., 31.])"
      ]
     },
     "execution_count": 7,
     "metadata": {},
     "output_type": "execute_result"
    }
   ],
   "source": [
    "import numpy as np\n",
    "stregr.fit(X, y)\n",
    "empty_array = np.array([])\n",
    "# stregr.predict gives the predicted target values\n",
    "y_pred = np.append(empty_array,stregr.predict(X))   \n",
    "y_predi = np.round_(y_pred,decimals=0)\n",
    "y_predi"
   ]
  },
  {
   "cell_type": "code",
   "execution_count": 8,
   "metadata": {},
   "outputs": [
    {
     "name": "stdout",
     "output_type": "stream",
     "text": [
      "correctly predicted: 1356\n",
      "Mean Squared Error: 6.3750\n",
      "Variance Score: 0.8439\n",
      "Accuracy by correct predictions: 32.2857\n"
     ]
    }
   ],
   "source": [
    "def countingofcorrectpredictions(y_true,y_predi):\n",
    "    count=0\n",
    "    for i in range(len(y_true)):\n",
    "        if y_predi[i]==y_true[i]:     #correctly classified\n",
    "            count+=1\n",
    "    return count        \n",
    "                                  \n",
    "if __name__==\"__main__\":\n",
    "    mean1 = np.mean((stregr.predict(X) - y) ** 2)  #average of error\n",
    "    var1 = stregr.score(X, y)    #variance \n",
    "    count1 = countingofcorrectpredictions(y_true,y_predi)\n",
    "    cm = confusion_matrix(y_predi, y_true)\n",
    "    print(\"correctly predicted: %d\" %count1)\n",
    "    accuracy = (count1/4200)*100\n",
    "    print(\"Mean Squared Error: %.4f\" % mean1)\n",
    "    print(\"Variance Score: %.4f\" % var1)\n",
    "    print(\"Accuracy by correct predictions: %.4f\" %accuracy)"
   ]
  },
  {
   "cell_type": "code",
   "execution_count": null,
   "metadata": {},
   "outputs": [],
   "source": []
  },
  {
   "cell_type": "code",
   "execution_count": 9,
   "metadata": {},
   "outputs": [
    {
     "data": {
      "image/png": "[encoded data removed]",
      "text/plain": [
       "<Figure size 432x288 with 1 Axes>"
      ]
     },
     "metadata": {
      "needs_background": "light"
     },
     "output_type": "display_data"
    }
   ],
   "source": [
    "plt.bar(y_predi,y_true)\n",
    "plt.title(\"Predicted vs Actual\")\n",
    "plt.xlabel(\"y_predi\")\n",
    "plt.ylabel(\"y_true\")\n",
    "plt.show()"
   ]
  }
 ],
 "metadata": {
  "kernelspec": {
   "display_name": "Python 3",
   "language": "python",
   "name": "python3"
  },
  "language_info": {
   "codemirror_mode": {
    "name": "ipython",
    "version": 3
   },
   "file_extension": ".py",
   "mimetype": "text/x-python",
   "name": "python",
   "nbconvert_exporter": "python",
   "pygments_lexer": "ipython3",
   "version": "3.7.3"
  }
 },
 "nbformat": 4,
 "nbformat_minor": 2
}
